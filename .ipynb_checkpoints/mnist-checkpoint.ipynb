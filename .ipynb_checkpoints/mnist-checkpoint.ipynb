{
 "cells": [
  {
   "cell_type": "code",
   "execution_count": 11,
   "metadata": {},
   "outputs": [],
   "source": [
    "import tensorflow as tf\n",
    "from tensorflow.examples.tutorials.mnist import input_data"
   ]
  },
  {
   "cell_type": "code",
   "execution_count": 12,
   "metadata": {},
   "outputs": [
    {
     "name": "stdout",
     "output_type": "stream",
     "text": [
      "Extracting /tmp/data/train-images-idx3-ubyte.gz\n",
      "Extracting /tmp/data/train-labels-idx1-ubyte.gz\n",
      "Extracting /tmp/data/t10k-images-idx3-ubyte.gz\n",
      "Extracting /tmp/data/t10k-labels-idx1-ubyte.gz\n"
     ]
    }
   ],
   "source": [
    "mnist = input_data.read_data_sets(\"/tmp/data\", one_hot=True)"
   ]
  },
  {
   "cell_type": "markdown",
   "metadata": {},
   "source": [
    "# Building Model"
   ]
  },
  {
   "cell_type": "code",
   "execution_count": 37,
   "metadata": {},
   "outputs": [],
   "source": [
    "nodes_hl1 = 500\n",
    "nodes_hl2 = 500\n",
    "nodes_hl3 = 500\n",
    "\n",
    "n_classes = 10\n",
    "batch_size = 100\n",
    "\n",
    "x = tf.placeholder('float', [None, 784])\n",
    "y = tf.placeholder('float')\n",
    "\n",
    "def model(data):\n",
    "    h_layer_1 = {\n",
    "        'weights':tf.Variable(tf.random_normal([784, nodes_hl1])),\n",
    "        'bias':tf.Variable(tf.random_normal([nodes_hl1]))\n",
    "    }\n",
    "    \n",
    "    h_layer_2 = {\n",
    "        'weights':tf.Variable(tf.random_normal([nodes_hl1, nodes_hl2])),\n",
    "        'bias':tf.Variable(tf.random_normal([nodes_hl2]))\n",
    "    }\n",
    "    \n",
    "    h_layer_3 = {\n",
    "        'weights':tf.Variable(tf.random_normal([nodes_hl2, nodes_hl3])),\n",
    "        'bias':tf.Variable(tf.random_normal([nodes_hl3]))\n",
    "    }\n",
    "    \n",
    "    output_layer = {\n",
    "        'weights':tf.Variable(tf.random_normal([nodes_hl3, n_classes])),\n",
    "        'bias':tf.Variable(tf.random_normal([n_classes]))\n",
    "    }\n",
    "    \n",
    "\n",
    "    l1 = tf.add(tf.matmul(data, h_layer_1['weights']), h_layer_1['bias'])\n",
    "    l1 = tf.nn.relu(l1)\n",
    "    \n",
    "    l2 = tf.add(tf.matmul(l1, h_layer_2['weights']), h_layer_2['bias'])\n",
    "    l2 = tf.nn.relu(l2)\n",
    "    \n",
    "    l3 = tf.add(tf.matmul(l2, h_layer_3['weights']), h_layer_3['bias'])\n",
    "    l3 = tf.nn.relu(l3)\n",
    "    \n",
    "    output = tf.add(tf.matmul(l3, output_layer['weights']), output_layer['bias'])\n",
    "    \n",
    "    return output\n",
    "    \n",
    "    "
   ]
  },
  {
   "cell_type": "markdown",
   "metadata": {},
   "source": [
    "# Train Model"
   ]
  },
  {
   "cell_type": "code",
   "execution_count": 52,
   "metadata": {},
   "outputs": [],
   "source": [
    "def train_nn(data):\n",
    "    predictions = model(data)\n",
    "    cost = tf.reduce_mean(tf.nn.softmax_cross_entropy_with_logits(logits=predictions, labels=y))\n",
    "    \n",
    "    optimizer = tf.train.AdamOptimizer().minimize(cost)\n",
    "    \n",
    "    epochs = 10\n",
    "    \n",
    "    with tf.Session() as sess:\n",
    "        sess.run(tf.initialize_all_variables())\n",
    "        \n",
    "        for epoch in range(epochs):\n",
    "            loss = 0\n",
    "            for _ in range(int(mnist.train.num_examples/batch_size)):\n",
    "                e_x, e_y = mnist.train.next_batch(batch_size)\n",
    "                _, c = sess.run([optimizer, cost], feed_dict={x:e_x, y:e_y})\n",
    "                loss += c\n",
    "            print(\"Epoch %d, Loss : %f\"%(epoch, loss))"
   ]
  },
  {
   "cell_type": "code",
   "execution_count": 53,
   "metadata": {},
   "outputs": [
    {
     "name": "stdout",
     "output_type": "stream",
     "text": [
      "Epoch 0, Loss : 1851544.991364\n",
      "Epoch 1, Loss : 425028.938347\n",
      "Epoch 2, Loss : 229930.798073\n",
      "Epoch 3, Loss : 139848.739518\n",
      "Epoch 4, Loss : 84940.787243\n",
      "Epoch 5, Loss : 54948.815544\n",
      "Epoch 6, Loss : 34516.584367\n",
      "Epoch 7, Loss : 27279.433825\n",
      "Epoch 8, Loss : 21106.748836\n",
      "Epoch 9, Loss : 17508.626818\n"
     ]
    }
   ],
   "source": [
    "train_nn(x)"
   ]
  },
  {
   "cell_type": "code",
   "execution_count": null,
   "metadata": {},
   "outputs": [],
   "source": []
  },
  {
   "cell_type": "code",
   "execution_count": null,
   "metadata": {},
   "outputs": [],
   "source": []
  }
 ],
 "metadata": {
  "kernelspec": {
   "display_name": "Tensorflow",
   "language": "python",
   "name": "python2"
  },
  "language_info": {
   "codemirror_mode": {
    "name": "ipython",
    "version": 2
   },
   "file_extension": ".py",
   "mimetype": "text/x-python",
   "name": "python",
   "nbconvert_exporter": "python",
   "pygments_lexer": "ipython2",
   "version": "2.7.10"
  }
 },
 "nbformat": 4,
 "nbformat_minor": 2
}
